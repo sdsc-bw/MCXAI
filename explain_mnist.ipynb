{
 "cells": [
  {
   "cell_type": "markdown",
   "id": "6d6745d7",
   "metadata": {},
   "source": [
    "# Explain a Model of Covertype Dataset"
   ]
  },
  {
   "cell_type": "code",
   "execution_count": 51,
   "id": "ce81b040",
   "metadata": {},
   "outputs": [],
   "source": [
    "import numpy as np\n",
    "import tensorflow as tf\n",
    "from tensorflow import keras\n",
    "from tensorflow.keras import layers\n",
    "import matplotlib.pyplot as plt\n",
    "from matplotlib import cm\n",
    "from PIL import Image, ImageDraw, ImageFont"
   ]
  },
  {
   "cell_type": "code",
   "execution_count": 52,
   "id": "5508782e",
   "metadata": {},
   "outputs": [],
   "source": [
    "from explainer import Explainer\n",
    "import util"
   ]
  },
  {
   "cell_type": "markdown",
   "id": "b7b28aed",
   "metadata": {},
   "source": [
    "## Load and Prepare Dataset"
   ]
  },
  {
   "cell_type": "markdown",
   "id": "1bd143d2",
   "metadata": {},
   "source": [
    "We use the [keras mnist dataset](https://keras.io/examples/vision/mnist_convnet/). The code for the dataset preparation and modelling are based on this website."
   ]
  },
  {
   "cell_type": "code",
   "execution_count": 3,
   "id": "8834e928",
   "metadata": {},
   "outputs": [
    {
     "name": "stdout",
     "output_type": "stream",
     "text": [
      "x_train shape: (60000, 28, 28, 1)\n",
      "60000 train samples\n",
      "10000 test samples\n"
     ]
    }
   ],
   "source": [
    "# Model / data parameters\n",
    "num_classes = 10\n",
    "input_shape = (28, 28, 1)\n",
    "\n",
    "# the data, split between train and test sets\n",
    "(x_train, y_train), (x_test, y_test) = keras.datasets.mnist.load_data()\n",
    "\n",
    "# Scale images to the [0, 1] range\n",
    "x_train = x_train.astype(\"float32\") / 255\n",
    "x_test = x_test.astype(\"float32\") / 255\n",
    "# Make sure images have shape (28, 28, 1)\n",
    "x_train = np.expand_dims(x_train, -1)\n",
    "x_test = np.expand_dims(x_test, -1)\n",
    "print(\"x_train shape:\", x_train.shape)\n",
    "print(x_train.shape[0], \"train samples\")\n",
    "print(x_test.shape[0], \"test samples\")\n",
    "\n",
    "\n",
    "# convert class vectors to binary class matrices\n",
    "y_train = keras.utils.to_categorical(y_train, num_classes)\n",
    "y_test = keras.utils.to_categorical(y_test, num_classes)"
   ]
  },
  {
   "cell_type": "markdown",
   "id": "2dc3919f",
   "metadata": {},
   "source": [
    "## Train Model"
   ]
  },
  {
   "cell_type": "code",
   "execution_count": 4,
   "id": "5edee0ab",
   "metadata": {},
   "outputs": [
    {
     "name": "stdout",
     "output_type": "stream",
     "text": [
      "Model: \"sequential\"\n",
      "_________________________________________________________________\n",
      "Layer (type)                 Output Shape              Param #   \n",
      "=================================================================\n",
      "conv2d (Conv2D)              (None, 26, 26, 32)        320       \n",
      "_________________________________________________________________\n",
      "max_pooling2d (MaxPooling2D) (None, 13, 13, 32)        0         \n",
      "_________________________________________________________________\n",
      "conv2d_1 (Conv2D)            (None, 11, 11, 64)        18496     \n",
      "_________________________________________________________________\n",
      "max_pooling2d_1 (MaxPooling2 (None, 5, 5, 64)          0         \n",
      "_________________________________________________________________\n",
      "flatten (Flatten)            (None, 1600)              0         \n",
      "_________________________________________________________________\n",
      "dropout (Dropout)            (None, 1600)              0         \n",
      "_________________________________________________________________\n",
      "dense (Dense)                (None, 10)                16010     \n",
      "=================================================================\n",
      "Total params: 34,826\n",
      "Trainable params: 34,826\n",
      "Non-trainable params: 0\n",
      "_________________________________________________________________\n"
     ]
    }
   ],
   "source": [
    "model = keras.Sequential(\n",
    "    [\n",
    "        keras.Input(shape=input_shape),\n",
    "        layers.Conv2D(32, kernel_size=(3, 3), activation=\"relu\", padding='valid', data_format = 'channels_last'),\n",
    "        layers.MaxPooling2D(pool_size=(2, 2)),\n",
    "        layers.Conv2D(64, kernel_size=(3, 3), activation=\"relu\", padding='valid', data_format = 'channels_last'),\n",
    "        layers.MaxPooling2D(pool_size=(2, 2)),\n",
    "        layers.Flatten(),\n",
    "        layers.Dropout(0.5),\n",
    "        layers.Dense(num_classes, activation=\"softmax\"),\n",
    "    ]\n",
    ")\n",
    "\n",
    "model.summary()"
   ]
  },
  {
   "cell_type": "code",
   "execution_count": 5,
   "id": "7c56cf73",
   "metadata": {},
   "outputs": [
    {
     "name": "stdout",
     "output_type": "stream",
     "text": [
      "Epoch 1/15\n",
      "422/422 [==============================] - 13s 30ms/step - loss: 0.3607 - accuracy: 0.8921 - val_loss: 0.0808 - val_accuracy: 0.9790\n",
      "Epoch 2/15\n",
      "422/422 [==============================] - 12s 29ms/step - loss: 0.1096 - accuracy: 0.9668 - val_loss: 0.0554 - val_accuracy: 0.9852\n",
      "Epoch 3/15\n",
      "422/422 [==============================] - 13s 30ms/step - loss: 0.0822 - accuracy: 0.9745 - val_loss: 0.0455 - val_accuracy: 0.9885\n",
      "Epoch 4/15\n",
      "422/422 [==============================] - 13s 30ms/step - loss: 0.0683 - accuracy: 0.9790 - val_loss: 0.0416 - val_accuracy: 0.9875\n",
      "Epoch 5/15\n",
      "422/422 [==============================] - 12s 29ms/step - loss: 0.0605 - accuracy: 0.9812 - val_loss: 0.0395 - val_accuracy: 0.9883\n",
      "Epoch 6/15\n",
      "422/422 [==============================] - 12s 28ms/step - loss: 0.0549 - accuracy: 0.9832 - val_loss: 0.0350 - val_accuracy: 0.9902\n",
      "Epoch 7/15\n",
      "422/422 [==============================] - 12s 28ms/step - loss: 0.0485 - accuracy: 0.9849 - val_loss: 0.0332 - val_accuracy: 0.9913\n",
      "Epoch 8/15\n",
      "422/422 [==============================] - 12s 28ms/step - loss: 0.0459 - accuracy: 0.9857 - val_loss: 0.0328 - val_accuracy: 0.9908\n",
      "Epoch 9/15\n",
      "422/422 [==============================] - 12s 29ms/step - loss: 0.0428 - accuracy: 0.9873 - val_loss: 0.0321 - val_accuracy: 0.9910\n",
      "Epoch 10/15\n",
      "422/422 [==============================] - 13s 31ms/step - loss: 0.0413 - accuracy: 0.9869 - val_loss: 0.0301 - val_accuracy: 0.9915\n",
      "Epoch 11/15\n",
      "422/422 [==============================] - 13s 30ms/step - loss: 0.0391 - accuracy: 0.9874 - val_loss: 0.0326 - val_accuracy: 0.9907\n",
      "Epoch 12/15\n",
      "422/422 [==============================] - 13s 31ms/step - loss: 0.0382 - accuracy: 0.9879 - val_loss: 0.0293 - val_accuracy: 0.9915\n",
      "Epoch 13/15\n",
      "422/422 [==============================] - 13s 31ms/step - loss: 0.0350 - accuracy: 0.9885 - val_loss: 0.0306 - val_accuracy: 0.9925\n",
      "Epoch 14/15\n",
      "422/422 [==============================] - 13s 30ms/step - loss: 0.0332 - accuracy: 0.9894 - val_loss: 0.0290 - val_accuracy: 0.9918\n",
      "Epoch 15/15\n",
      "422/422 [==============================] - 13s 30ms/step - loss: 0.0324 - accuracy: 0.9894 - val_loss: 0.0303 - val_accuracy: 0.9913\n"
     ]
    },
    {
     "data": {
      "text/plain": [
       "<tensorflow.python.keras.callbacks.History at 0x2b20922d220>"
      ]
     },
     "execution_count": 5,
     "metadata": {},
     "output_type": "execute_result"
    }
   ],
   "source": [
    "batch_size = 128\n",
    "epochs = 15\n",
    "\n",
    "model.compile(loss=\"categorical_crossentropy\", optimizer=\"adam\", metrics=[\"accuracy\"])\n",
    "\n",
    "model.fit(x_train, y_train, batch_size=batch_size, epochs=epochs, validation_split=0.1)"
   ]
  },
  {
   "cell_type": "code",
   "execution_count": 6,
   "id": "cfb98c6e",
   "metadata": {},
   "outputs": [
    {
     "name": "stdout",
     "output_type": "stream",
     "text": [
      "Test loss: 0.026968374848365784\n",
      "Test accuracy: 0.9905999898910522\n"
     ]
    }
   ],
   "source": [
    "score = model.evaluate(x_test, y_test, verbose=0)\n",
    "print(\"Test loss:\", score[0])\n",
    "print(\"Test accuracy:\", score[1])"
   ]
  },
  {
   "cell_type": "markdown",
   "id": "321ce30b",
   "metadata": {},
   "source": [
    "## Pick a Sample for Explanation"
   ]
  },
  {
   "cell_type": "code",
   "execution_count": 7,
   "id": "fa3579a2",
   "metadata": {},
   "outputs": [],
   "source": [
    "sample = x_test[0].squeeze()\n",
    "target_label = np.argmax(y_test[0])"
   ]
  },
  {
   "cell_type": "code",
   "execution_count": 46,
   "id": "2f646018",
   "metadata": {
    "scrolled": true
   },
   "outputs": [
    {
     "data": {
      "image/png": "[encoded data removed]",
      "text/plain": [
       "<Figure size 640x480 with 1 Axes>"
      ]
     },
     "metadata": {},
     "output_type": "display_data"
    }
   ],
   "source": [
    "plt.imshow(sample, cmap='gray')\n",
    "plt.axis(\"off\")\n",
    "plt.show()"
   ]
  },
  {
   "cell_type": "code",
   "execution_count": 9,
   "id": "7aff1ad7",
   "metadata": {},
   "outputs": [
    {
     "data": {
      "text/plain": [
       "7"
      ]
     },
     "execution_count": 9,
     "metadata": {},
     "output_type": "execute_result"
    }
   ],
   "source": [
    "target_label"
   ]
  },
  {
   "cell_type": "code",
   "execution_count": 10,
   "id": "94099f0b",
   "metadata": {},
   "outputs": [
    {
     "data": {
      "text/plain": [
       "array([[5.8312031e-09, 5.3731394e-11, 6.4156243e-06, 1.5891418e-06,\n",
       "        4.3062166e-13, 8.8414948e-10, 1.9878538e-16, 9.9999094e-01,\n",
       "        3.7709951e-09, 1.0304270e-06]], dtype=float32)"
      ]
     },
     "execution_count": 10,
     "metadata": {},
     "output_type": "execute_result"
    }
   ],
   "source": [
    "model.predict(np.expand_dims(sample.reshape(28, 28, 1), axis=0))"
   ]
  },
  {
   "cell_type": "markdown",
   "id": "d0b8d7fb",
   "metadata": {},
   "source": [
    "## Explain the Sample"
   ]
  },
  {
   "cell_type": "code",
   "execution_count": 57,
   "id": "23528283",
   "metadata": {},
   "outputs": [],
   "source": [
    "kernel_size = 3"
   ]
  },
  {
   "cell_type": "code",
   "execution_count": 58,
   "id": "f553d2dc",
   "metadata": {},
   "outputs": [],
   "source": [
    "def predict(data):\n",
    "    if data.shape == (28, 28):\n",
    "        return model.predict(np.expand_dims(data.reshape(28, 28, 1), axis=0))\n",
    "    else:\n",
    "        return model.predict(data.reshape(-1, 28, 28, 1))"
   ]
  },
  {
   "cell_type": "code",
   "execution_count": 59,
   "id": "0a6ab18c",
   "metadata": {},
   "outputs": [],
   "source": [
    "explainer = Explainer(sample, predict, target_label, hide_value=0, kernel_size=3, max_depth=20, max_episodes=100)"
   ]
  },
  {
   "cell_type": "code",
   "execution_count": 60,
   "id": "b91a8361",
   "metadata": {
    "scrolled": false
   },
   "outputs": [
    {
     "name": "stderr",
     "output_type": "stream",
     "text": [
      "2021-10-29 15:27:53,408 - agent - INFO - XXXXXXXXXXXXXXXXXXXXXXXXXXXXXXXXXXXXXXXXXXXXXXXXXXXXXXXXXXXXXXXXXXXXXX\n",
      "2021-10-29 15:27:53,408 - agent - INFO - Episode:\t0\n",
      "2021-10-29 15:27:53,409 - agent - INFO - XXXXXXXXXXXXXXXXXXXXXXXXXXXXXXXXXXXXXXXXXXXXXXXXXXXXXXXXXXXXXXXXXXXXXX\n",
      "2021-10-29 15:28:38,643 - agent - INFO - Maximum number of episodes reached\n",
      "2021-10-29 15:28:38,949 - agent - INFO - XXXXXXXXXXXXXXXXXXXXXXXXXXXXXXXXXXXXXXXXXXXXXXXXXXXXXXXXXXXXXXXXXXXXXX\n",
      "2021-10-29 15:28:38,949 - agent - INFO - Episode:\t0\n",
      "2021-10-29 15:28:38,950 - agent - INFO - XXXXXXXXXXXXXXXXXXXXXXXXXXXXXXXXXXXXXXXXXXXXXXXXXXXXXXXXXXXXXXXXXXXXXX\n",
      "2021-10-29 15:29:14,944 - agent - INFO - Maximum number of episodes reached\n",
      "2021-10-29 15:29:15,084 - agent - INFO - XXXXXXXXXXXXXXXXXXXXXXXXXXXXXXXXXXXXXXXXXXXXXXXXXXXXXXXXXXXXXXXXXXXXXX\n",
      "2021-10-29 15:29:15,084 - agent - INFO - Episode:\t0\n",
      "2021-10-29 15:29:15,085 - agent - INFO - XXXXXXXXXXXXXXXXXXXXXXXXXXXXXXXXXXXXXXXXXXXXXXXXXXXXXXXXXXXXXXXXXXXXXX\n",
      "2021-10-29 15:29:37,317 - explainer - INFO - Classification game finished\n",
      "2021-10-29 15:29:37,589 - agent - INFO - XXXXXXXXXXXXXXXXXXXXXXXXXXXXXXXXXXXXXXXXXXXXXXXXXXXXXXXXXXXXXXXXXXXXXX\n",
      "2021-10-29 15:29:37,590 - agent - INFO - Episode:\t0\n",
      "2021-10-29 15:29:37,590 - agent - INFO - XXXXXXXXXXXXXXXXXXXXXXXXXXXXXXXXXXXXXXXXXXXXXXXXXXXXXXXXXXXXXXXXXXXXXX\n",
      "2021-10-29 15:29:42,208 - explainer - INFO - Misclassification game finished\n"
     ]
    }
   ],
   "source": [
    "explainer.explain()"
   ]
  },
  {
   "cell_type": "code",
   "execution_count": 61,
   "id": "6f5af269",
   "metadata": {},
   "outputs": [],
   "source": [
    "min_d = 100\n",
    "dones = 0\n",
    "for node in explainer.agent_1.mct.tree:\n",
    "    if node.game_is_done:\n",
    "        min_d = min(min_d, node.depth)\n",
    "        dones += 1"
   ]
  },
  {
   "cell_type": "code",
   "execution_count": 62,
   "id": "6ad42501",
   "metadata": {},
   "outputs": [
    {
     "data": {
      "text/plain": [
       "3"
      ]
     },
     "execution_count": 62,
     "metadata": {},
     "output_type": "execute_result"
    }
   ],
   "source": [
    "min_d"
   ]
  },
  {
   "cell_type": "code",
   "execution_count": 63,
   "id": "e654c5c3",
   "metadata": {},
   "outputs": [
    {
     "data": {
      "text/plain": [
       "65"
      ]
     },
     "execution_count": 63,
     "metadata": {},
     "output_type": "execute_result"
    }
   ],
   "source": [
    "dones"
   ]
  },
  {
   "cell_type": "code",
   "execution_count": 64,
   "id": "f96307d3",
   "metadata": {},
   "outputs": [],
   "source": [
    "ranks_1, ranks_2 = explainer.get_explanation()"
   ]
  },
  {
   "cell_type": "markdown",
   "id": "061b0b46",
   "metadata": {},
   "source": [
    "Now the features are ranked by their importance, if the explainer was able to change the prediction (change the class with the highest probability). The lower the rank of the feature, the more important is this feature."
   ]
  },
  {
   "cell_type": "code",
   "execution_count": 68,
   "id": "e4ed78e5",
   "metadata": {},
   "outputs": [],
   "source": [
    "def plot_masked(ranks, sample, scale, ksize, offset=0):\n",
    "    img = Image.fromarray(np.uint8(sample*255))\n",
    "    img = img.resize((28 * scale, 28 * scale), resample=Image.BOX)\n",
    "    img = img.convert('RGBA')\n",
    "    \n",
    "    t_img = Image.new('RGBA', (28 * scale, 28 * scale), (255, 0, 0, 0))\n",
    "    fnt = ImageFont.truetype('/Library/Fonts/arial.ttf', (scale - offset) * ksize)\n",
    "    d_img = ImageDraw.Draw(img)\n",
    "    fillcolor = \"white\"\n",
    "    shadowcolor = \"black\"\n",
    "    \n",
    "    for x in range(0, 28, ksize):\n",
    "        for y in range(0, 28, ksize):\n",
    "            number = ranks[x][y]\n",
    "            if number != 0:\n",
    "                text = str(int(number))\n",
    "                xt = x * scale\n",
    "                yt = y * scale\n",
    "                \n",
    "                # thin border\n",
    "                d_img.text((yt-3, xt), text, font=fnt, fill=shadowcolor)\n",
    "                d_img.text((yt+3, xt), text, font=fnt, fill=shadowcolor)\n",
    "                d_img.text((yt, xt-3), text, font=fnt, fill=shadowcolor)\n",
    "                d_img.text((yt, xt+3), text, font=fnt, fill=shadowcolor)\n",
    "\n",
    "                # thicker border\n",
    "                d_img.text((yt-3, xt-3), text, font=fnt, fill=shadowcolor)\n",
    "                d_img.text((yt+3, xt-3), text, font=fnt, fill=shadowcolor)\n",
    "                d_img.text((yt-3, xt+3), text, font=fnt, fill=shadowcolor)\n",
    "                d_img.text((yt+3, xt+3), text, font=fnt, fill=shadowcolor)\n",
    "                \n",
    "                d_img.text((yt, xt), text, font=fnt, fill=fillcolor)\n",
    "\n",
    "    for x in range(0, img.width, ksize * scale):\n",
    "        line = ((x, 0), (x, img.height))\n",
    "        d_img.line(line, fill=(255, 0, 0))\n",
    "        \n",
    "    for y in range(0, img.height, ksize * scale):\n",
    "        line = ((0, y), (img.width, y))\n",
    "        d_img.line(line, fill=(255, 0, 0))\n",
    "    \n",
    "    img.paste(t_img, (0, 0), t_img)\n",
    "    plt.axis(\"off\")\n",
    "    plt.imshow(img)\n",
    "    plt.show()"
   ]
  },
  {
   "cell_type": "code",
   "execution_count": 69,
   "id": "18ba1ddb",
   "metadata": {},
   "outputs": [
    {
     "data": {
      "image/png": "[encoded data removed]",
      "text/plain": [
       "<Figure size 640x480 with 1 Axes>"
      ]
     },
     "metadata": {},
     "output_type": "display_data"
    }
   ],
   "source": [
    "plot_masked(ranks_1, sample, 15, kernel_size)"
   ]
  },
  {
   "cell_type": "code",
   "execution_count": 70,
   "id": "551bdc4a",
   "metadata": {
    "scrolled": true
   },
   "outputs": [
    {
     "data": {
      "image/png": "[encoded data removed]",
      "text/plain": [
       "<Figure size 640x480 with 1 Axes>"
      ]
     },
     "metadata": {},
     "output_type": "display_data"
    }
   ],
   "source": [
    "plot_masked(ranks_2, sample, 15, kernel_size)"
   ]
  },
  {
   "cell_type": "code",
   "execution_count": null,
   "id": "a6ae7007",
   "metadata": {},
   "outputs": [],
   "source": []
  }
 ],
 "metadata": {
  "kernelspec": {
   "display_name": "mcxai",
   "language": "python",
   "name": "mcxai"
  },
  "language_info": {
   "codemirror_mode": {
    "name": "ipython",
    "version": 3
   },
   "file_extension": ".py",
   "mimetype": "text/x-python",
   "name": "python",
   "nbconvert_exporter": "python",
   "pygments_lexer": "ipython3",
   "version": "3.8.12"
  }
 },
 "nbformat": 4,
 "nbformat_minor": 5
}
