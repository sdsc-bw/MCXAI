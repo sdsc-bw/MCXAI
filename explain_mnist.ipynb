{
 "cells": [
  {
   "cell_type": "markdown",
   "id": "390a7280",
   "metadata": {},
   "source": [
    "<a href=\"https://colab.research.google.com/github/sdsc-bw/MCXAI/blob/main/explain_mnist.ipynb\" target=\"_parent\"><img src=\"https://colab.research.google.com/assets/colab-badge.svg\" alt=\"Open In Colab\"/></a>"
   ]
  },
  {
   "cell_type": "markdown",
   "id": "6d6745d7",
   "metadata": {},
   "source": [
    "# Explain a Model of Covertype Dataset"
   ]
  },
  {
   "cell_type": "code",
   "execution_count": 1,
   "id": "ce81b040",
   "metadata": {},
   "outputs": [],
   "source": [
    "import numpy as np\n",
    "import tensorflow as tf\n",
    "from tensorflow import keras\n",
    "from tensorflow.keras import layers\n",
    "import matplotlib.pyplot as plt\n",
    "from matplotlib import cm\n",
    "from PIL import Image, ImageDraw, ImageFont"
   ]
  },
  {
   "cell_type": "code",
   "execution_count": 2,
   "id": "5508782e",
   "metadata": {},
   "outputs": [],
   "source": [
    "from explainer import Explainer\n",
    "import util"
   ]
  },
  {
   "cell_type": "markdown",
   "id": "b7b28aed",
   "metadata": {},
   "source": [
    "## Load and Prepare Dataset"
   ]
  },
  {
   "cell_type": "markdown",
   "id": "1bd143d2",
   "metadata": {},
   "source": [
    "We use the [keras mnist dataset](https://keras.io/examples/vision/mnist_convnet/). The code for the dataset preparation and modelling are based on this website."
   ]
  },
  {
   "cell_type": "code",
   "execution_count": 3,
   "id": "8834e928",
   "metadata": {},
   "outputs": [
    {
     "name": "stdout",
     "output_type": "stream",
     "text": [
      "x_train shape: (60000, 28, 28, 1)\n",
      "60000 train samples\n",
      "10000 test samples\n"
     ]
    }
   ],
   "source": [
    "# Model / data parameters\n",
    "num_classes = 10\n",
    "input_shape = (28, 28, 1)\n",
    "\n",
    "# the data, split between train and test sets\n",
    "(x_train, y_train), (x_test, y_test) = keras.datasets.mnist.load_data()\n",
    "\n",
    "# Scale images to the [0, 1] range\n",
    "x_train = x_train.astype(\"float32\") / 255\n",
    "x_test = x_test.astype(\"float32\") / 255\n",
    "# Make sure images have shape (28, 28, 1)\n",
    "x_train = np.expand_dims(x_train, -1)\n",
    "x_test = np.expand_dims(x_test, -1)\n",
    "print(\"x_train shape:\", x_train.shape)\n",
    "print(x_train.shape[0], \"train samples\")\n",
    "print(x_test.shape[0], \"test samples\")\n",
    "\n",
    "\n",
    "# convert class vectors to binary class matrices\n",
    "y_train = keras.utils.to_categorical(y_train, num_classes)\n",
    "y_test = keras.utils.to_categorical(y_test, num_classes)"
   ]
  },
  {
   "cell_type": "markdown",
   "id": "2dc3919f",
   "metadata": {},
   "source": [
    "## Train Model"
   ]
  },
  {
   "cell_type": "code",
   "execution_count": 4,
   "id": "5edee0ab",
   "metadata": {},
   "outputs": [
    {
     "name": "stdout",
     "output_type": "stream",
     "text": [
      "Model: \"sequential\"\n",
      "_________________________________________________________________\n",
      "Layer (type)                 Output Shape              Param #   \n",
      "=================================================================\n",
      "conv2d (Conv2D)              (None, 26, 26, 32)        320       \n",
      "_________________________________________________________________\n",
      "max_pooling2d (MaxPooling2D) (None, 13, 13, 32)        0         \n",
      "_________________________________________________________________\n",
      "conv2d_1 (Conv2D)            (None, 11, 11, 64)        18496     \n",
      "_________________________________________________________________\n",
      "max_pooling2d_1 (MaxPooling2 (None, 5, 5, 64)          0         \n",
      "_________________________________________________________________\n",
      "flatten (Flatten)            (None, 1600)              0         \n",
      "_________________________________________________________________\n",
      "dropout (Dropout)            (None, 1600)              0         \n",
      "_________________________________________________________________\n",
      "dense (Dense)                (None, 10)                16010     \n",
      "=================================================================\n",
      "Total params: 34,826\n",
      "Trainable params: 34,826\n",
      "Non-trainable params: 0\n",
      "_________________________________________________________________\n"
     ]
    }
   ],
   "source": [
    "model = keras.Sequential(\n",
    "    [\n",
    "        keras.Input(shape=input_shape),\n",
    "        layers.Conv2D(32, kernel_size=(3, 3), activation=\"relu\", padding='valid', data_format = 'channels_last'),\n",
    "        layers.MaxPooling2D(pool_size=(2, 2)),\n",
    "        layers.Conv2D(64, kernel_size=(3, 3), activation=\"relu\", padding='valid', data_format = 'channels_last'),\n",
    "        layers.MaxPooling2D(pool_size=(2, 2)),\n",
    "        layers.Flatten(),\n",
    "        layers.Dropout(0.5),\n",
    "        layers.Dense(num_classes, activation=\"softmax\"),\n",
    "    ]\n",
    ")\n",
    "\n",
    "model.summary()"
   ]
  },
  {
   "cell_type": "code",
   "execution_count": 5,
   "id": "7c56cf73",
   "metadata": {},
   "outputs": [
    {
     "name": "stdout",
     "output_type": "stream",
     "text": [
      "Epoch 1/15\n",
      "422/422 [==============================] - 13s 31ms/step - loss: 0.3593 - accuracy: 0.8898 - val_loss: 0.0867 - val_accuracy: 0.9773\n",
      "Epoch 2/15\n",
      "422/422 [==============================] - 13s 30ms/step - loss: 0.1169 - accuracy: 0.9641 - val_loss: 0.0592 - val_accuracy: 0.9843\n",
      "Epoch 3/15\n",
      "422/422 [==============================] - 13s 30ms/step - loss: 0.0878 - accuracy: 0.9725 - val_loss: 0.0486 - val_accuracy: 0.9862\n",
      "Epoch 4/15\n",
      "422/422 [==============================] - 13s 30ms/step - loss: 0.0736 - accuracy: 0.9776 - val_loss: 0.0420 - val_accuracy: 0.9885\n",
      "Epoch 5/15\n",
      "422/422 [==============================] - 12s 29ms/step - loss: 0.0660 - accuracy: 0.9792 - val_loss: 0.0379 - val_accuracy: 0.9902\n",
      "Epoch 6/15\n",
      "422/422 [==============================] - 12s 29ms/step - loss: 0.0577 - accuracy: 0.9812 - val_loss: 0.0391 - val_accuracy: 0.9888\n",
      "Epoch 7/15\n",
      "422/422 [==============================] - 12s 29ms/step - loss: 0.0525 - accuracy: 0.9835 - val_loss: 0.0384 - val_accuracy: 0.9887\n",
      "Epoch 8/15\n",
      "422/422 [==============================] - 13s 30ms/step - loss: 0.0488 - accuracy: 0.9845 - val_loss: 0.0351 - val_accuracy: 0.9900\n",
      "Epoch 9/15\n",
      "422/422 [==============================] - 13s 30ms/step - loss: 0.0460 - accuracy: 0.9852 - val_loss: 0.0332 - val_accuracy: 0.9913\n",
      "Epoch 10/15\n",
      "422/422 [==============================] - 13s 30ms/step - loss: 0.0436 - accuracy: 0.9858 - val_loss: 0.0316 - val_accuracy: 0.9910\n",
      "Epoch 11/15\n",
      "422/422 [==============================] - 13s 30ms/step - loss: 0.0411 - accuracy: 0.9865 - val_loss: 0.0329 - val_accuracy: 0.9908\n",
      "Epoch 12/15\n",
      "422/422 [==============================] - 13s 30ms/step - loss: 0.0408 - accuracy: 0.9870 - val_loss: 0.0295 - val_accuracy: 0.9922\n",
      "Epoch 13/15\n",
      "422/422 [==============================] - 13s 30ms/step - loss: 0.0375 - accuracy: 0.9878 - val_loss: 0.0301 - val_accuracy: 0.9915\n",
      "Epoch 14/15\n",
      "422/422 [==============================] - 13s 30ms/step - loss: 0.0367 - accuracy: 0.9876 - val_loss: 0.0298 - val_accuracy: 0.9917\n",
      "Epoch 15/15\n",
      "422/422 [==============================] - 13s 30ms/step - loss: 0.0357 - accuracy: 0.9881 - val_loss: 0.0280 - val_accuracy: 0.9920\n"
     ]
    },
    {
     "data": {
      "text/plain": [
       "<tensorflow.python.keras.callbacks.History at 0x1e60ef9a1f0>"
      ]
     },
     "execution_count": 5,
     "metadata": {},
     "output_type": "execute_result"
    }
   ],
   "source": [
    "batch_size = 128\n",
    "epochs = 15\n",
    "\n",
    "model.compile(loss=\"categorical_crossentropy\", optimizer=\"adam\", metrics=[\"accuracy\"])\n",
    "\n",
    "model.fit(x_train, y_train, batch_size=batch_size, epochs=epochs, validation_split=0.1)"
   ]
  },
  {
   "cell_type": "code",
   "execution_count": 6,
   "id": "cfb98c6e",
   "metadata": {},
   "outputs": [
    {
     "name": "stdout",
     "output_type": "stream",
     "text": [
      "Test loss: 0.027469519525766373\n",
      "Test accuracy: 0.9900000095367432\n"
     ]
    }
   ],
   "source": [
    "score = model.evaluate(x_test, y_test, verbose=0)\n",
    "print(\"Test loss:\", score[0])\n",
    "print(\"Test accuracy:\", score[1])"
   ]
  },
  {
   "cell_type": "markdown",
   "id": "321ce30b",
   "metadata": {},
   "source": [
    "## Pick a Sample for Explanation"
   ]
  },
  {
   "cell_type": "code",
   "execution_count": 7,
   "id": "fa3579a2",
   "metadata": {},
   "outputs": [],
   "source": [
    "sample = x_test[0].squeeze()\n",
    "target_label = np.argmax(y_test[0])"
   ]
  },
  {
   "cell_type": "code",
   "execution_count": 8,
   "id": "2f646018",
   "metadata": {
    "scrolled": true
   },
   "outputs": [
    {
     "data": {
      "image/png": "[encoded data removed]",
      "text/plain": [
       "<Figure size 640x480 with 1 Axes>"
      ]
     },
     "metadata": {},
     "output_type": "display_data"
    }
   ],
   "source": [
    "plt.imshow(sample, cmap='gray')\n",
    "plt.axis(\"off\")\n",
    "plt.show()"
   ]
  },
  {
   "cell_type": "code",
   "execution_count": 9,
   "id": "7aff1ad7",
   "metadata": {},
   "outputs": [
    {
     "data": {
      "text/plain": [
       "7"
      ]
     },
     "execution_count": 9,
     "metadata": {},
     "output_type": "execute_result"
    }
   ],
   "source": [
    "target_label"
   ]
  },
  {
   "cell_type": "code",
   "execution_count": 10,
   "id": "94099f0b",
   "metadata": {},
   "outputs": [
    {
     "data": {
      "text/plain": [
       "array([[3.9499382e-09, 6.5734279e-11, 8.3598006e-06, 2.8119864e-06,\n",
       "        1.0289834e-12, 2.9822167e-10, 3.4116981e-16, 9.9998820e-01,\n",
       "        2.0498392e-08, 6.3432844e-07]], dtype=float32)"
      ]
     },
     "execution_count": 10,
     "metadata": {},
     "output_type": "execute_result"
    }
   ],
   "source": [
    "model.predict(np.expand_dims(sample.reshape(28, 28, 1), axis=0))"
   ]
  },
  {
   "cell_type": "markdown",
   "id": "d0b8d7fb",
   "metadata": {},
   "source": [
    "## Explain the Sample"
   ]
  },
  {
   "cell_type": "code",
   "execution_count": 11,
   "id": "23528283",
   "metadata": {},
   "outputs": [],
   "source": [
    "kernel_size = 3"
   ]
  },
  {
   "cell_type": "code",
   "execution_count": 12,
   "id": "f553d2dc",
   "metadata": {},
   "outputs": [],
   "source": [
    "def predict(data):\n",
    "    if data.shape == (28, 28):\n",
    "        return model.predict(np.expand_dims(data.reshape(28, 28, 1), axis=0))\n",
    "    else:\n",
    "        return model.predict(data.reshape(-1, 28, 28, 1))"
   ]
  },
  {
   "cell_type": "code",
   "execution_count": 13,
   "id": "0a6ab18c",
   "metadata": {},
   "outputs": [],
   "source": [
    "explainer = Explainer(sample, predict, target_label, hide_value=0, kernel_size=3, max_depth=20, max_episodes=10000)"
   ]
  },
  {
   "cell_type": "code",
   "execution_count": 14,
   "id": "b91a8361",
   "metadata": {
    "scrolled": false
   },
   "outputs": [
    {
     "name": "stderr",
     "output_type": "stream",
     "text": [
      "2021-11-02 12:54:32,591 - agent - INFO - XXXXXXXXXXXXXXXXXXXXXXXXXXXXXXXXXXXXXXXXXXXXXXXXXXXXXXXXXXXXXXXXXXXXXX\n",
      "2021-11-02 12:54:32,592 - agent - INFO - Episode:\t0\n",
      "2021-11-02 12:54:32,593 - agent - INFO - XXXXXXXXXXXXXXXXXXXXXXXXXXXXXXXXXXXXXXXXXXXXXXXXXXXXXXXXXXXXXXXXXXXXXX\n",
      "2021-11-02 13:00:12,968 - agent - INFO - XXXXXXXXXXXXXXXXXXXXXXXXXXXXXXXXXXXXXXXXXXXXXXXXXXXXXXXXXXXXXXXXXXXXXX\n",
      "2021-11-02 13:00:12,968 - agent - INFO - Episode:\t1000\n",
      "2021-11-02 13:00:12,969 - agent - INFO - XXXXXXXXXXXXXXXXXXXXXXXXXXXXXXXXXXXXXXXXXXXXXXXXXXXXXXXXXXXXXXXXXXXXXX\n",
      "2021-11-02 13:05:26,785 - agent - INFO - XXXXXXXXXXXXXXXXXXXXXXXXXXXXXXXXXXXXXXXXXXXXXXXXXXXXXXXXXXXXXXXXXXXXXX\n",
      "2021-11-02 13:05:26,786 - agent - INFO - Episode:\t2000\n",
      "2021-11-02 13:05:26,786 - agent - INFO - XXXXXXXXXXXXXXXXXXXXXXXXXXXXXXXXXXXXXXXXXXXXXXXXXXXXXXXXXXXXXXXXXXXXXX\n",
      "2021-11-02 13:10:56,499 - agent - INFO - XXXXXXXXXXXXXXXXXXXXXXXXXXXXXXXXXXXXXXXXXXXXXXXXXXXXXXXXXXXXXXXXXXXXXX\n",
      "2021-11-02 13:10:56,500 - agent - INFO - Episode:\t3000\n",
      "2021-11-02 13:10:56,500 - agent - INFO - XXXXXXXXXXXXXXXXXXXXXXXXXXXXXXXXXXXXXXXXXXXXXXXXXXXXXXXXXXXXXXXXXXXXXX\n",
      "2021-11-02 13:15:37,861 - agent - INFO - XXXXXXXXXXXXXXXXXXXXXXXXXXXXXXXXXXXXXXXXXXXXXXXXXXXXXXXXXXXXXXXXXXXXXX\n",
      "2021-11-02 13:15:37,862 - agent - INFO - Episode:\t4000\n",
      "2021-11-02 13:15:37,862 - agent - INFO - XXXXXXXXXXXXXXXXXXXXXXXXXXXXXXXXXXXXXXXXXXXXXXXXXXXXXXXXXXXXXXXXXXXXXX\n",
      "2021-11-02 13:19:24,884 - agent - INFO - XXXXXXXXXXXXXXXXXXXXXXXXXXXXXXXXXXXXXXXXXXXXXXXXXXXXXXXXXXXXXXXXXXXXXX\n",
      "2021-11-02 13:19:24,884 - agent - INFO - Episode:\t5000\n",
      "2021-11-02 13:19:24,885 - agent - INFO - XXXXXXXXXXXXXXXXXXXXXXXXXXXXXXXXXXXXXXXXXXXXXXXXXXXXXXXXXXXXXXXXXXXXXX\n",
      "2021-11-02 13:22:23,725 - agent - INFO - XXXXXXXXXXXXXXXXXXXXXXXXXXXXXXXXXXXXXXXXXXXXXXXXXXXXXXXXXXXXXXXXXXXXXX\n",
      "2021-11-02 13:22:23,725 - agent - INFO - Episode:\t6000\n",
      "2021-11-02 13:22:23,726 - agent - INFO - XXXXXXXXXXXXXXXXXXXXXXXXXXXXXXXXXXXXXXXXXXXXXXXXXXXXXXXXXXXXXXXXXXXXXX\n",
      "2021-11-02 13:24:03,397 - agent - INFO - XXXXXXXXXXXXXXXXXXXXXXXXXXXXXXXXXXXXXXXXXXXXXXXXXXXXXXXXXXXXXXXXXXXXXX\n",
      "2021-11-02 13:24:03,397 - agent - INFO - Episode:\t7000\n",
      "2021-11-02 13:24:03,398 - agent - INFO - XXXXXXXXXXXXXXXXXXXXXXXXXXXXXXXXXXXXXXXXXXXXXXXXXXXXXXXXXXXXXXXXXXXXXX\n",
      "2021-11-02 13:25:15,626 - agent - INFO - XXXXXXXXXXXXXXXXXXXXXXXXXXXXXXXXXXXXXXXXXXXXXXXXXXXXXXXXXXXXXXXXXXXXXX\n",
      "2021-11-02 13:25:15,627 - agent - INFO - Episode:\t8000\n",
      "2021-11-02 13:25:15,627 - agent - INFO - XXXXXXXXXXXXXXXXXXXXXXXXXXXXXXXXXXXXXXXXXXXXXXXXXXXXXXXXXXXXXXXXXXXXXX\n",
      "2021-11-02 13:26:12,634 - agent - INFO - XXXXXXXXXXXXXXXXXXXXXXXXXXXXXXXXXXXXXXXXXXXXXXXXXXXXXXXXXXXXXXXXXXXXXX\n",
      "2021-11-02 13:26:12,635 - agent - INFO - Episode:\t9000\n",
      "2021-11-02 13:26:12,636 - agent - INFO - XXXXXXXXXXXXXXXXXXXXXXXXXXXXXXXXXXXXXXXXXXXXXXXXXXXXXXXXXXXXXXXXXXXXXX\n",
      "2021-11-02 13:26:56,960 - agent - INFO - Maximum number of episodes reached\n",
      "2021-11-02 13:26:57,102 - agent - INFO - XXXXXXXXXXXXXXXXXXXXXXXXXXXXXXXXXXXXXXXXXXXXXXXXXXXXXXXXXXXXXXXXXXXXXX\n",
      "2021-11-02 13:26:57,102 - agent - INFO - Episode:\t0\n",
      "2021-11-02 13:26:57,103 - agent - INFO - XXXXXXXXXXXXXXXXXXXXXXXXXXXXXXXXXXXXXXXXXXXXXXXXXXXXXXXXXXXXXXXXXXXXXX\n",
      "2021-11-02 13:27:34,378 - agent - INFO - XXXXXXXXXXXXXXXXXXXXXXXXXXXXXXXXXXXXXXXXXXXXXXXXXXXXXXXXXXXXXXXXXXXXXX\n",
      "2021-11-02 13:27:34,378 - agent - INFO - Episode:\t1000\n",
      "2021-11-02 13:27:34,379 - agent - INFO - XXXXXXXXXXXXXXXXXXXXXXXXXXXXXXXXXXXXXXXXXXXXXXXXXXXXXXXXXXXXXXXXXXXXXX\n",
      "2021-11-02 13:28:08,539 - agent - INFO - XXXXXXXXXXXXXXXXXXXXXXXXXXXXXXXXXXXXXXXXXXXXXXXXXXXXXXXXXXXXXXXXXXXXXX\n",
      "2021-11-02 13:28:08,539 - agent - INFO - Episode:\t2000\n",
      "2021-11-02 13:28:08,540 - agent - INFO - XXXXXXXXXXXXXXXXXXXXXXXXXXXXXXXXXXXXXXXXXXXXXXXXXXXXXXXXXXXXXXXXXXXXXX\n",
      "2021-11-02 13:28:37,121 - agent - INFO - XXXXXXXXXXXXXXXXXXXXXXXXXXXXXXXXXXXXXXXXXXXXXXXXXXXXXXXXXXXXXXXXXXXXXX\n",
      "2021-11-02 13:28:37,121 - agent - INFO - Episode:\t3000\n",
      "2021-11-02 13:28:37,122 - agent - INFO - XXXXXXXXXXXXXXXXXXXXXXXXXXXXXXXXXXXXXXXXXXXXXXXXXXXXXXXXXXXXXXXXXXXXXX\n",
      "2021-11-02 13:29:00,857 - agent - INFO - XXXXXXXXXXXXXXXXXXXXXXXXXXXXXXXXXXXXXXXXXXXXXXXXXXXXXXXXXXXXXXXXXXXXXX\n",
      "2021-11-02 13:29:00,858 - agent - INFO - Episode:\t4000\n",
      "2021-11-02 13:29:00,858 - agent - INFO - XXXXXXXXXXXXXXXXXXXXXXXXXXXXXXXXXXXXXXXXXXXXXXXXXXXXXXXXXXXXXXXXXXXXXX\n",
      "2021-11-02 13:29:13,985 - agent - INFO - Distribution stable after \t4500 episodes\n",
      "2021-11-02 13:29:13,986 - explainer - INFO - Classification game finished\n",
      "2021-11-02 13:29:14,255 - agent - INFO - XXXXXXXXXXXXXXXXXXXXXXXXXXXXXXXXXXXXXXXXXXXXXXXXXXXXXXXXXXXXXXXXXXXXXX\n",
      "2021-11-02 13:29:14,256 - agent - INFO - Episode:\t0\n",
      "2021-11-02 13:29:14,257 - agent - INFO - XXXXXXXXXXXXXXXXXXXXXXXXXXXXXXXXXXXXXXXXXXXXXXXXXXXXXXXXXXXXXXXXXXXXXX\n",
      "2021-11-02 13:29:57,979 - agent - INFO - XXXXXXXXXXXXXXXXXXXXXXXXXXXXXXXXXXXXXXXXXXXXXXXXXXXXXXXXXXXXXXXXXXXXXX\n",
      "2021-11-02 13:29:57,979 - agent - INFO - Episode:\t1000\n",
      "2021-11-02 13:29:57,979 - agent - INFO - XXXXXXXXXXXXXXXXXXXXXXXXXXXXXXXXXXXXXXXXXXXXXXXXXXXXXXXXXXXXXXXXXXXXXX\n",
      "2021-11-02 13:30:16,331 - agent - INFO - XXXXXXXXXXXXXXXXXXXXXXXXXXXXXXXXXXXXXXXXXXXXXXXXXXXXXXXXXXXXXXXXXXXXXX\n",
      "2021-11-02 13:30:16,331 - agent - INFO - Episode:\t2000\n",
      "2021-11-02 13:30:16,332 - agent - INFO - XXXXXXXXXXXXXXXXXXXXXXXXXXXXXXXXXXXXXXXXXXXXXXXXXXXXXXXXXXXXXXXXXXXXXX\n",
      "2021-11-02 13:31:04,218 - agent - INFO - XXXXXXXXXXXXXXXXXXXXXXXXXXXXXXXXXXXXXXXXXXXXXXXXXXXXXXXXXXXXXXXXXXXXXX\n",
      "2021-11-02 13:31:04,218 - agent - INFO - Episode:\t3000\n",
      "2021-11-02 13:31:04,219 - agent - INFO - XXXXXXXXXXXXXXXXXXXXXXXXXXXXXXXXXXXXXXXXXXXXXXXXXXXXXXXXXXXXXXXXXXXXXX\n",
      "2021-11-02 13:31:52,010 - agent - INFO - XXXXXXXXXXXXXXXXXXXXXXXXXXXXXXXXXXXXXXXXXXXXXXXXXXXXXXXXXXXXXXXXXXXXXX\n",
      "2021-11-02 13:31:52,010 - agent - INFO - Episode:\t4000\n",
      "2021-11-02 13:31:52,011 - agent - INFO - XXXXXXXXXXXXXXXXXXXXXXXXXXXXXXXXXXXXXXXXXXXXXXXXXXXXXXXXXXXXXXXXXXXXXX\n",
      "2021-11-02 13:32:38,460 - agent - INFO - XXXXXXXXXXXXXXXXXXXXXXXXXXXXXXXXXXXXXXXXXXXXXXXXXXXXXXXXXXXXXXXXXXXXXX\n",
      "2021-11-02 13:32:38,461 - agent - INFO - Episode:\t5000\n",
      "2021-11-02 13:32:38,461 - agent - INFO - XXXXXXXXXXXXXXXXXXXXXXXXXXXXXXXXXXXXXXXXXXXXXXXXXXXXXXXXXXXXXXXXXXXXXX\n",
      "2021-11-02 13:33:19,911 - agent - INFO - XXXXXXXXXXXXXXXXXXXXXXXXXXXXXXXXXXXXXXXXXXXXXXXXXXXXXXXXXXXXXXXXXXXXXX\n",
      "2021-11-02 13:33:19,912 - agent - INFO - Episode:\t6000\n",
      "2021-11-02 13:33:19,913 - agent - INFO - XXXXXXXXXXXXXXXXXXXXXXXXXXXXXXXXXXXXXXXXXXXXXXXXXXXXXXXXXXXXXXXXXXXXXX\n",
      "2021-11-02 13:33:56,839 - agent - INFO - XXXXXXXXXXXXXXXXXXXXXXXXXXXXXXXXXXXXXXXXXXXXXXXXXXXXXXXXXXXXXXXXXXXXXX\n",
      "2021-11-02 13:33:56,839 - agent - INFO - Episode:\t7000\n",
      "2021-11-02 13:33:56,840 - agent - INFO - XXXXXXXXXXXXXXXXXXXXXXXXXXXXXXXXXXXXXXXXXXXXXXXXXXXXXXXXXXXXXXXXXXXXXX\n",
      "2021-11-02 13:34:31,798 - agent - INFO - XXXXXXXXXXXXXXXXXXXXXXXXXXXXXXXXXXXXXXXXXXXXXXXXXXXXXXXXXXXXXXXXXXXXXX\n",
      "2021-11-02 13:34:31,798 - agent - INFO - Episode:\t8000\n",
      "2021-11-02 13:34:31,799 - agent - INFO - XXXXXXXXXXXXXXXXXXXXXXXXXXXXXXXXXXXXXXXXXXXXXXXXXXXXXXXXXXXXXXXXXXXXXX\n",
      "2021-11-02 13:35:03,723 - agent - INFO - XXXXXXXXXXXXXXXXXXXXXXXXXXXXXXXXXXXXXXXXXXXXXXXXXXXXXXXXXXXXXXXXXXXXXX\n",
      "2021-11-02 13:35:03,724 - agent - INFO - Episode:\t9000\n",
      "2021-11-02 13:35:03,724 - agent - INFO - XXXXXXXXXXXXXXXXXXXXXXXXXXXXXXXXXXXXXXXXXXXXXXXXXXXXXXXXXXXXXXXXXXXXXX\n",
      "2021-11-02 13:35:35,626 - explainer - INFO - Misclassification game finished\n"
     ]
    }
   ],
   "source": [
    "explainer.explain()"
   ]
  },
  {
   "cell_type": "code",
   "execution_count": 15,
   "id": "f96307d3",
   "metadata": {},
   "outputs": [],
   "source": [
    "ranks_1, ranks_2 = explainer.get_explanation()"
   ]
  },
  {
   "cell_type": "markdown",
   "id": "061b0b46",
   "metadata": {},
   "source": [
    "Now the features are ranked by their importance, if the explainer was able to change the prediction (change the class with the highest probability). The lower the rank of the feature, the more important is this feature."
   ]
  },
  {
   "cell_type": "code",
   "execution_count": 16,
   "id": "e4ed78e5",
   "metadata": {},
   "outputs": [],
   "source": [
    "def plot_masked(ranks, sample, scale, ksize, offset=0):\n",
    "    img = Image.fromarray(np.uint8(sample*255))\n",
    "    img = img.resize((28 * scale, 28 * scale), resample=Image.BOX)\n",
    "    img = img.convert('RGBA')\n",
    "    \n",
    "    t_img = Image.new('RGBA', (28 * scale, 28 * scale), (255, 0, 0, 0))\n",
    "    fnt = ImageFont.truetype('/Library/Fonts/arial.ttf', (scale - offset) * ksize)\n",
    "    d_img = ImageDraw.Draw(img)\n",
    "    fillcolor = \"white\"\n",
    "    shadowcolor = \"black\"\n",
    "    \n",
    "    for x in range(0, 28, ksize):\n",
    "        for y in range(0, 28, ksize):\n",
    "            number = ranks[x][y]\n",
    "            if number != 0:\n",
    "                text = str(int(number))\n",
    "                xt = x * scale\n",
    "                yt = y * scale\n",
    "                \n",
    "                # thin border\n",
    "                d_img.text((yt-3, xt), text, font=fnt, fill=shadowcolor)\n",
    "                d_img.text((yt+3, xt), text, font=fnt, fill=shadowcolor)\n",
    "                d_img.text((yt, xt-3), text, font=fnt, fill=shadowcolor)\n",
    "                d_img.text((yt, xt+3), text, font=fnt, fill=shadowcolor)\n",
    "\n",
    "                # thicker border\n",
    "                d_img.text((yt-3, xt-3), text, font=fnt, fill=shadowcolor)\n",
    "                d_img.text((yt+3, xt-3), text, font=fnt, fill=shadowcolor)\n",
    "                d_img.text((yt-3, xt+3), text, font=fnt, fill=shadowcolor)\n",
    "                d_img.text((yt+3, xt+3), text, font=fnt, fill=shadowcolor)\n",
    "                \n",
    "                d_img.text((yt, xt), text, font=fnt, fill=fillcolor)\n",
    "\n",
    "    for x in range(0, img.width, ksize * scale):\n",
    "        line = ((x, 0), (x, img.height))\n",
    "        d_img.line(line, fill=(255, 0, 0))\n",
    "        \n",
    "    for y in range(0, img.height, ksize * scale):\n",
    "        line = ((0, y), (img.width, y))\n",
    "        d_img.line(line, fill=(255, 0, 0))\n",
    "    \n",
    "    img.paste(t_img, (0, 0), t_img)\n",
    "    plt.axis(\"off\")\n",
    "    plt.imshow(img)\n",
    "    plt.show()"
   ]
  },
  {
   "cell_type": "code",
   "execution_count": 17,
   "id": "18ba1ddb",
   "metadata": {},
   "outputs": [
    {
     "data": {
      "image/png": "[encoded data removed]",
      "text/plain": [
       "<Figure size 640x480 with 1 Axes>"
      ]
     },
     "metadata": {},
     "output_type": "display_data"
    }
   ],
   "source": [
    "plot_masked(ranks_1, sample, 15, kernel_size)"
   ]
  },
  {
   "cell_type": "code",
   "execution_count": 18,
   "id": "551bdc4a",
   "metadata": {
    "scrolled": true
   },
   "outputs": [
    {
     "data": {
      "image/png": "[encoded data removed]",
      "text/plain": [
       "<Figure size 640x480 with 1 Axes>"
      ]
     },
     "metadata": {},
     "output_type": "display_data"
    }
   ],
   "source": [
    "plot_masked(ranks_2, sample, 15, kernel_size)"
   ]
  },
  {
   "cell_type": "code",
   "execution_count": null,
   "id": "a6ae7007",
   "metadata": {
    "collapsed": true
   },
   "outputs": [],
   "source": []
  }
 ],
 "metadata": {
  "kernelspec": {
   "display_name": "mcxai",
   "language": "python",
   "name": "mcxai"
  },
  "language_info": {
   "codemirror_mode": {
    "name": "ipython",
    "version": 3
   },
   "file_extension": ".py",
   "mimetype": "text/x-python",
   "name": "python",
   "nbconvert_exporter": "python",
   "pygments_lexer": "ipython3",
   "version": "3.8.12"
  }
 },
 "nbformat": 4,
 "nbformat_minor": 5
}
